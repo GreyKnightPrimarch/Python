{
 "cells": [
  {
   "cell_type": "code",
   "execution_count": 1,
   "metadata": {},
   "outputs": [],
   "source": [
    "import random\n",
    "\n",
    "def Rand(a=0,b=100):\n",
    "    val = random.randrange(a,b)\n",
    "    val2 = random.random()\n",
    "    f = round(val*val2*10,2)\n",
    "    return f"
   ]
  },
  {
   "cell_type": "code",
   "execution_count": 2,
   "metadata": {},
   "outputs": [],
   "source": [
    "class User:\n",
    "    balance = 0\n",
    "    rate = 0\n",
    "    name = ''\n",
    "    def __init__(self, name, rate=.1, startingAmount=0):\n",
    "        self.balance = startingAmount\n",
    "        self.name = name\n",
    "        self.rate = rate\n",
    "    def transfer_money(self, other_user, amount=0):\n",
    "        if(amount==0):\n",
    "            amount = Rand()\n",
    "            print(f\"Randomly transfered {'%.2f'%amount:<10}\")\n",
    "        other_user.balance += amount\n",
    "        self.balance -= amount\n",
    "        return self\n",
    "    def make_withdrawal(self, amount=0):\n",
    "        if(amount==0):\n",
    "            amount = Rand()\n",
    "            print(f\"Randomly withdrawn {'%.2f'%amount:<10}\")\n",
    "        self.balance -= amount\n",
    "        return self\n",
    "    def make_deposit(self, amount=0):\n",
    "        if(amount==0):\n",
    "            amount = Rand()\n",
    "            print(f\"Randomly deposited {'%.2f'%amount:<10}\")\n",
    "        self.balance += amount\n",
    "        return self\n",
    "    def yeild_interest(self):\n",
    "        self.balance *= (1+self.rate)\n",
    "        self.balance = round(self.balance,2)\n",
    "        return self\n",
    "    @classmethod\n",
    "    def display_account_info(cls):\n",
    "        print(f'{cls.name}-\\tAmount: {cls.balance}')\n"
   ]
  },
  {
   "cell_type": "code",
   "execution_count": 3,
   "metadata": {},
   "outputs": [],
   "source": [
    "checking = User(\"checking\", .02, 1000)\n",
    "saving = User(\"saving\", .14, 400)\n"
   ]
  },
  {
   "cell_type": "code",
   "execution_count": 4,
   "metadata": {},
   "outputs": [
    {
     "name": "stdout",
     "output_type": "stream",
     "text": [
      "Randomly deposited 867.23    \n",
      "Randomly deposited 343.73    \n",
      "Randomly deposited 111.13    \n",
      "Randomly withdrawn 608.54    \n",
      "checking-\tAmount: 1747.82\n"
     ]
    }
   ],
   "source": [
    "checking.make_deposit().make_deposit().make_deposit().make_withdrawal().yeild_interest()\n",
    "User.name = checking.name\n",
    "User.balance = checking.balance\n",
    "checking.display_account_info()"
   ]
  },
  {
   "cell_type": "code",
   "execution_count": 5,
   "metadata": {},
   "outputs": [
    {
     "name": "stdout",
     "output_type": "stream",
     "text": [
      "Randomly deposited 270.63    \n",
      "Randomly deposited 139.41    \n",
      "Randomly withdrawn 304.73    \n",
      "Randomly withdrawn 72.81     \n",
      "Randomly withdrawn 16.93     \n",
      "saving-\tAmount: 473.75\n"
     ]
    }
   ],
   "source": [
    "saving.make_deposit().make_deposit().make_withdrawal().make_withdrawal().make_withdrawal().yeild_interest()\n",
    "User.name = saving.name\n",
    "User.balance = saving.balance\n",
    "saving.display_account_info()"
   ]
  },
  {
   "cell_type": "code",
   "execution_count": 6,
   "metadata": {},
   "outputs": [
    {
     "name": "stdout",
     "output_type": "stream",
     "text": [
      "checking-\tAmount: 1747.82\n",
      "saving-\tAmount: 473.75\n"
     ]
    }
   ],
   "source": [
    "User.name = checking.name\n",
    "User.balance = checking.balance\n",
    "checking.display_account_info()\n",
    "User.name = saving.name\n",
    "User.balance = saving.balance\n",
    "saving.display_account_info()\n",
    "\n"
   ]
  }
 ],
 "metadata": {
  "interpreter": {
   "hash": "b3ba2566441a7c06988d0923437866b63cedc61552a5af99d1f4fb67d367b25f"
  },
  "kernelspec": {
   "display_name": "Python 3.8.3 ('base')",
   "language": "python",
   "name": "python3"
  },
  "language_info": {
   "codemirror_mode": {
    "name": "ipython",
    "version": 3
   },
   "file_extension": ".py",
   "mimetype": "text/x-python",
   "name": "python",
   "nbconvert_exporter": "python",
   "pygments_lexer": "ipython3",
   "version": "3.8.3"
  },
  "orig_nbformat": 4
 },
 "nbformat": 4,
 "nbformat_minor": 2
}

{
 "cells": [
  {
   "cell_type": "code",
   "execution_count": 1,
   "metadata": {},
   "outputs": [],
   "source": [
    "class User:\n",
    "    balance = 0\n",
    "    rate = 0\n",
    "    name = ''\n",
    "    def __init__(self, name, rate=.1, startingAmount=0):\n",
    "        self.balance = startingAmount\n",
    "        self.name = name\n",
    "        self.rate = rate\n",
    "    def transfer_money(self, other_user, amount):\n",
    "        other_user.balance += amount\n",
    "        self.balance -= amount\n",
    "        return self\n",
    "    def make_withdrawal(self, amount):\n",
    "        self.balance -= amount\n",
    "        return self\n",
    "    def make_deposit(self, amount):\n",
    "        self.balance += amount\n",
    "        return self\n",
    "    @classmethod\n",
    "    def yeild_interest(cls):\n",
    "        cls.balance *= (1+cls.rate)\n",
    "        return cls\n",
    "    def display_account_info(self):\n",
    "        print(f'{self.name}\\nAmount: {self.balance}')\n"
   ]
  },
  {
   "cell_type": "code",
   "execution_count": 2,
   "metadata": {},
   "outputs": [],
   "source": [
    "checking = User(\"checking\", .02, 1000)\n",
    "saving = User(\"saving\", .14, 400)\n"
   ]
  },
  {
   "cell_type": "code",
   "execution_count": 3,
   "metadata": {},
   "outputs": [
    {
     "ename": "NameError",
     "evalue": "name 'hj' is not defined",
     "output_type": "error",
     "traceback": [
      "\u001b[1;31m---------------------------------------------------------------------------\u001b[0m",
      "\u001b[1;31mNameError\u001b[0m                                 Traceback (most recent call last)",
      "\u001b[1;32m<ipython-input-3-2f9bf22998b7>\u001b[0m in \u001b[0;36m<module>\u001b[1;34m\u001b[0m\n\u001b[1;32m----> 1\u001b[1;33m \u001b[0mhj\u001b[0m\u001b[1;33m.\u001b[0m\u001b[0mdisplay_user_balance\u001b[0m\u001b[1;33m(\u001b[0m\u001b[1;33m)\u001b[0m\u001b[1;33m\u001b[0m\u001b[1;33m\u001b[0m\u001b[0m\n\u001b[0m\u001b[0;32m      2\u001b[0m \u001b[0mlp\u001b[0m\u001b[1;33m.\u001b[0m\u001b[0mdisplay_user_balance\u001b[0m\u001b[1;33m(\u001b[0m\u001b[1;33m)\u001b[0m\u001b[1;33m\u001b[0m\u001b[1;33m\u001b[0m\u001b[0m\n\u001b[0;32m      3\u001b[0m \u001b[0mlp\u001b[0m\u001b[1;33m.\u001b[0m\u001b[0mtransfer_money\u001b[0m\u001b[1;33m(\u001b[0m\u001b[0mhj\u001b[0m\u001b[1;33m,\u001b[0m\u001b[1;36m200\u001b[0m\u001b[1;33m)\u001b[0m\u001b[1;33m\u001b[0m\u001b[1;33m\u001b[0m\u001b[0m\n\u001b[0;32m      4\u001b[0m \u001b[0mhj\u001b[0m\u001b[1;33m.\u001b[0m\u001b[0mdisplay_user_balance\u001b[0m\u001b[1;33m(\u001b[0m\u001b[1;33m)\u001b[0m\u001b[1;33m\u001b[0m\u001b[1;33m\u001b[0m\u001b[0m\n\u001b[0;32m      5\u001b[0m \u001b[0mlp\u001b[0m\u001b[1;33m.\u001b[0m\u001b[0mdisplay_user_balance\u001b[0m\u001b[1;33m(\u001b[0m\u001b[1;33m)\u001b[0m\u001b[1;33m\u001b[0m\u001b[1;33m\u001b[0m\u001b[0m\n",
      "\u001b[1;31mNameError\u001b[0m: name 'hj' is not defined"
     ]
    }
   ],
   "source": [
    "checking.display_account_info()\n",
    "lp.display_user_balance()\n",
    "lp.transfer_money(hj,200)\n",
    "hj.display_user_balance()\n",
    "lp.display_user_balance()"
   ]
  }
 ],
 "metadata": {
  "interpreter": {
   "hash": "b3ba2566441a7c06988d0923437866b63cedc61552a5af99d1f4fb67d367b25f"
  },
  "kernelspec": {
   "display_name": "Python 3.8.3 ('base')",
   "language": "python",
   "name": "python3"
  },
  "language_info": {
   "codemirror_mode": {
    "name": "ipython",
    "version": 3
   },
   "file_extension": ".py",
   "mimetype": "text/x-python",
   "name": "python",
   "nbconvert_exporter": "python",
   "pygments_lexer": "ipython3",
   "version": "3.8.3"
  },
  "orig_nbformat": 4
 },
 "nbformat": 4,
 "nbformat_minor": 2
}

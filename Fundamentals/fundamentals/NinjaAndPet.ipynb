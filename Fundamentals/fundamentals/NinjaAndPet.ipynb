{
 "cells": [
  {
   "cell_type": "code",
   "execution_count": 1,
   "metadata": {},
   "outputs": [],
   "source": [
    "class pet:\n",
    "    energy = 0\n",
    "    energycap = 1000\n",
    "    health = 0\n",
    "    healthcap = 1000\n",
    "    name = ''\n",
    "    tricks = []\n",
    "    noise = ''\n",
    "    \n",
    "    def __init__(self, name , ptype , tricks, noise, energycap=1000, healthcap=1000  ):\n",
    "        self.name = name\n",
    "        self.ptype = ptype\n",
    "        self.tricks = tricks\n",
    "        self.noise = noise\n",
    "        self.energycap = energycap\n",
    "        self.healthcap = healthcap\n",
    "        \n",
    "    def sleep(self):\n",
    "        self.energy +=25\n",
    "        self.checkEnergy()\n",
    "        self.checkHealth()\n",
    "            \n",
    "    def eat(self):\n",
    "        self.energy +=5\n",
    "        self.health +=10\n",
    "        self.checkEnergy()\n",
    "        self.checkHealth()\n",
    "                    \n",
    "    def play(self):\n",
    "        self.health +=5\n",
    "        self.checkEnergy()\n",
    "        self.checkHealth()\n",
    "        \n",
    "    def capLevel(self, amount, cap):\n",
    "        if(amount<0):\n",
    "            amount = 0\n",
    "        elif(amount>cap):\n",
    "            amount=cap\n",
    "        return amount\n",
    "    \n",
    "    def Noise(self):\n",
    "        print(f'{self.name} said {self.noise}')\n",
    "    \n",
    "    def ShowTricks(self, whichTrick=-1):\n",
    "        if( (whichTrick<0) | (whichTrick>len(self.tricks)) ):\n",
    "            for i in range(0,len(self.tricks)):\n",
    "                print(f'trick number #{i+1}: {self.tricks[i]}')\n",
    "        else:\n",
    "            print(f'trick number #{whichTrick}: {self.tricks[whichTrick-1]}')\n",
    "    def checkEnergy(self):\n",
    "        self.energy = self.capLevel(self.energy,self.energycap)\n",
    "            \n",
    "    def checkHealth(self):\n",
    "        self.health = self.capLevel(self.health,self.healthcap)\n",
    "\n"
   ]
  },
  {
   "cell_type": "code",
   "execution_count": 2,
   "metadata": {},
   "outputs": [
    {
     "name": "stdout",
     "output_type": "stream",
     "text": [
      "Oswald said Meow\n",
      "trick number #1: ['nothing']\n",
      "trick number #2: killing vermin\n",
      "trick number #3: find fish\n",
      "trick number #4: infect\n",
      "trick number #5: lick\n",
      "trick number #6: fetch\n"
     ]
    }
   ],
   "source": [
    "tricks = [['nothing'],'killing vermin', 'find fish', 'infect', 'lick', 'fetch']\n",
    "cat = pet('Oswald', 'Cat', tricks, 'Meow' )\n",
    "cat.Noise()\n",
    "cat.ShowTricks()"
   ]
  },
  {
   "cell_type": "code",
   "execution_count": 3,
   "metadata": {},
   "outputs": [],
   "source": [
    "class Ninja:\n",
    "    first_name = ''\n",
    "    last_name = ''\n",
    "    treats = ''\n",
    "    pet_food = ''\n",
    "    pet = ''\n",
    "    def __init__(self, first_name , last_name , treats , pet_food , pet ):\n",
    "        self.first_name = first_name\n",
    "        self.last_name = last_name\n",
    "        self.treats = treats\n",
    "        self.pet_food = pet_food\n",
    "        self.pet = pet\n",
    "        \n",
    "    def walk(self):\n",
    "        print(f'{self.first_name} walked {self.pet.name}')\n",
    "        \n",
    "    def feed(self, a=1):\n",
    "        if(a==1):\n",
    "            print(f'{self.first_name} feed {self.pet.name} {self.pet_food}')\n",
    "        else:\n",
    "            print(f'{self.first_name} feed {self.pet.name} {self.treats}')\n",
    "        self.pet.eat()\n",
    "    \n",
    "    def bathe(self):\n",
    "        print(f'{self.first_name} bathed {self.pet.name}')\n",
    "        self.pet.Noise()\n"
   ]
  },
  {
   "cell_type": "code",
   "execution_count": 4,
   "metadata": {},
   "outputs": [
    {
     "name": "stdout",
     "output_type": "stream",
     "text": [
      "Kevin walked Oswald\n",
      "Kevin feed Oswald Kibble\n",
      "Kevin bathed Oswald\n",
      "Oswald said Meow\n"
     ]
    }
   ],
   "source": [
    "nin = Ninja(\"Kevin\",\"shadows\",\"Minty Beef sticks\", \"Kibble\",cat)\n",
    "nin.walk()\n",
    "nin.feed(1)\n",
    "nin.bathe()"
   ]
  }
 ],
 "metadata": {
  "interpreter": {
   "hash": "b3ba2566441a7c06988d0923437866b63cedc61552a5af99d1f4fb67d367b25f"
  },
  "kernelspec": {
   "display_name": "Python 3.8.3 ('base')",
   "language": "python",
   "name": "python3"
  },
  "language_info": {
   "codemirror_mode": {
    "name": "ipython",
    "version": 3
   },
   "file_extension": ".py",
   "mimetype": "text/x-python",
   "name": "python",
   "nbconvert_exporter": "python",
   "pygments_lexer": "ipython3",
   "version": "3.8.3"
  },
  "orig_nbformat": 4
 },
 "nbformat": 4,
 "nbformat_minor": 2
}

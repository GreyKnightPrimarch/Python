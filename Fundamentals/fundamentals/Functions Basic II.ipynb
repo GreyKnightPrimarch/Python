{
 "cells": [
  {
   "cell_type": "code",
   "execution_count": 1,
   "metadata": {},
   "outputs": [],
   "source": [
    "# generate random array\n",
    "import random\n",
    "Seed = 5;\n",
    "def RandArry(l=10):\n",
    "    if(l<=0):\n",
    "        l=1;\n",
    "    global Seed    \n",
    "    random.seed(Seed)\n",
    "    arr = []\n",
    "    temp =0;\n",
    "    for i in range(l):\n",
    "        temp = round(random.random()*100,0)\n",
    "        arr.append(temp)\n",
    "    Seed = arr[0]\n",
    "    # print(Seed)\n",
    "    return arr\n"
   ]
  },
  {
   "cell_type": "code",
   "execution_count": 2,
   "metadata": {},
   "outputs": [
    {
     "name": "stdout",
     "output_type": "stream",
     "text": [
      "[10, 9, 8, 7, 6, 5, 4, 3, 2, 1]\n",
      "[4, 3, 2, 1]\n"
     ]
    },
    {
     "data": {
      "text/plain": [
       "[4, 3, 2, 1]"
      ]
     },
     "execution_count": 2,
     "metadata": {},
     "output_type": "execute_result"
    }
   ],
   "source": [
    "# countdown\n",
    "\n",
    "def countdown(x):\n",
    "    arr = []\n",
    "    for i in range(x,0,-1):\n",
    "        arr.append(i)\n",
    "    print(arr)\n",
    "    return arr\n",
    "\n",
    "countdown(10)\n",
    "countdown(4)"
   ]
  },
  {
   "cell_type": "code",
   "execution_count": 3,
   "metadata": {},
   "outputs": [
    {
     "name": "stdout",
     "output_type": "stream",
     "text": [
      "1\n",
      "2\n"
     ]
    }
   ],
   "source": [
    "# Print and Return\n",
    "\n",
    "def Print_and_Return(arr):\n",
    "    print(arr[0])\n",
    "    return arr[1]\n",
    "\n",
    "b = Print_and_Return([1,2])\n",
    "print(b)"
   ]
  },
  {
   "cell_type": "code",
   "execution_count": 4,
   "metadata": {},
   "outputs": [
    {
     "name": "stdout",
     "output_type": "stream",
     "text": [
      "[62.0, 74.0, 80.0, 94.0, 74.0, 92.0, 3.0, 47.0, 94.0, 65.0]\n",
      "72.0\n"
     ]
    }
   ],
   "source": [
    "#First Plus Length\n",
    "\n",
    "def First_Plus_Length(arr):\n",
    "    sum = arr[0]+len(arr)\n",
    "    return sum\n",
    "\n",
    "ar = RandArry()\n",
    "fpl = First_Plus_Length(ar)\n",
    "print(ar)\n",
    "print(fpl)"
   ]
  },
  {
   "cell_type": "code",
   "execution_count": 5,
   "metadata": {},
   "outputs": [
    {
     "name": "stdout",
     "output_type": "stream",
     "text": [
      "[93.0, 17.0, 97.0, 24.0, 46.0, 90.0, 36.0, 51.0, 16.0, 96.0]\n",
      "[93.0, 97.0, 24.0, 46.0, 90.0, 36.0, 51.0, 96.0]\n"
     ]
    }
   ],
   "source": [
    "# Values Greater than Second\n",
    "\n",
    "def Values_Greater_than_Second(arr):\n",
    "    l = []\n",
    "    a = arr[1]\n",
    "    for i in range(len(arr)):\n",
    "        if(arr[i]>a):\n",
    "            l.append(arr[i])\n",
    "    return l\n",
    "    \n",
    "k = RandArry()\n",
    "print(k)\n",
    "k2 = Values_Greater_than_Second(k)\n",
    "print(k2)"
   ]
  },
  {
   "cell_type": "code",
   "execution_count": 8,
   "metadata": {},
   "outputs": [
    {
     "name": "stdout",
     "output_type": "stream",
     "text": [
      "[52, 52]\n"
     ]
    }
   ],
   "source": [
    "# This Length, That Value\n",
    "\n",
    "def ThisLengthThatValue(length,val):\n",
    "    arr = []\n",
    "    for i in range(length):\n",
    "        arr.append(val)\n",
    "    return arr\n",
    "\n",
    "\n",
    "k2 = ThisLengthThatValue(2,52)\n",
    "print(k2)"
   ]
  },
  {
   "cell_type": "code",
   "execution_count": null,
   "metadata": {},
   "outputs": [],
   "source": []
  }
 ],
 "metadata": {
  "interpreter": {
   "hash": "b3ba2566441a7c06988d0923437866b63cedc61552a5af99d1f4fb67d367b25f"
  },
  "kernelspec": {
   "display_name": "Python 3.8.3 ('base')",
   "language": "python",
   "name": "python3"
  },
  "language_info": {
   "codemirror_mode": {
    "name": "ipython",
    "version": 3
   },
   "file_extension": ".py",
   "mimetype": "text/x-python",
   "name": "python",
   "nbconvert_exporter": "python",
   "pygments_lexer": "ipython3",
   "version": "3.8.3"
  },
  "orig_nbformat": 4
 },
 "nbformat": 4,
 "nbformat_minor": 2
}

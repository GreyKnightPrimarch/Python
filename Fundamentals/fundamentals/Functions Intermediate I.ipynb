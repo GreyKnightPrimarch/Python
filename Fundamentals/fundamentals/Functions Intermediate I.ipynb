{
 "cells": [
  {
   "cell_type": "code",
   "execution_count": 1,
   "metadata": {},
   "outputs": [],
   "source": [
    "x = [\n",
    "    [5, 2, 3],\n",
    "    [10, 8, 9]\n",
    "]\n",
    "students = [{\n",
    "        'first_name': 'Michael',\n",
    "        'last_name': 'Jordan'\n",
    "    },\n",
    "    {\n",
    "        'first_name': 'John',\n",
    "        'last_name': 'Rosales'\n",
    "    }\n",
    "]\n",
    "sports_directory = {\n",
    "    'basketball': ['Kobe', 'Jordan', 'James', 'Curry'],\n",
    "    'soccer': ['Messi', 'Ronaldo', 'Rooney']\n",
    "}\n",
    "z = [{\n",
    "    'x': 10,\n",
    "    'y': 20\n",
    "}]"
   ]
  },
  {
   "cell_type": "code",
   "execution_count": 2,
   "metadata": {},
   "outputs": [
    {
     "name": "stdout",
     "output_type": "stream",
     "text": [
      "[[5, 2, 3], [15, 8, 9]]\n",
      "{'first_name': 'Michael', 'last_name': 'Bryant'}\n",
      "['Andres', 'Ronaldo', 'Rooney']\n",
      "[{'x': 10, 'y': 30}]\n"
     ]
    }
   ],
   "source": [
    "x[1][0] = 15\n",
    "students[0]['last_name'] = \"Bryant\"\n",
    "sports_directory['soccer'][0] = 'Andres'\n",
    "z[0]['y']=30\n",
    "\n",
    "print(x)\n",
    "print(students[0])\n",
    "print(sports_directory['soccer'])\n",
    "print(z)"
   ]
  },
  {
   "cell_type": "code",
   "execution_count": 3,
   "metadata": {},
   "outputs": [
    {
     "name": "stdout",
     "output_type": "stream",
     "text": [
      "first_name - Michael, last_name - Jordan\n",
      "first_name - John, last_name - Rosales\n",
      "first_name - Mark, last_name - Guillen\n",
      "first_name - KB, last_name - Tonel\n"
     ]
    }
   ],
   "source": [
    "students = [\n",
    "        {'first_name':  'Michael', 'last_name' : 'Jordan'},\n",
    "        {'first_name' : 'John', 'last_name' : 'Rosales'},\n",
    "        {'first_name' : 'Mark', 'last_name' : 'Guillen'},\n",
    "        {'first_name' : 'KB', 'last_name' : 'Tonel'}\n",
    "    ]\n",
    "\n",
    "def iterateDictionary(students):\n",
    "    for i in range(0,len(students)):\n",
    "        s =\"\"\n",
    "        for key, val in students[i].items():\n",
    "            s += f'{key} - {val}, '\n",
    "        s = s[:len(s)-2]\n",
    "        print(s)\n",
    "# should output: (it's okay if each key-value pair ends up on 2 separate lines;\n",
    "# bonus to get them to appear exactly as below!)\n",
    "# first_name - Michael, last_name - Jordan\n",
    "# first_name - John, last_name - Rosales\n",
    "# first_name - Mark, last_name - Guillen\n",
    "# first_name - KB, last_name - Tonel\n",
    "\n",
    "iterateDictionary(students)\n"
   ]
  },
  {
   "cell_type": "code",
   "execution_count": 4,
   "metadata": {},
   "outputs": [
    {
     "name": "stdout",
     "output_type": "stream",
     "text": [
      "Michael\n",
      "John\n",
      "Mark\n",
      "KB\n",
      "\n",
      "Jordan\n",
      "Rosales\n",
      "Guillen\n",
      "Tonel\n"
     ]
    }
   ],
   "source": [
    "def iterateDictionary2(key_name, some_list):\n",
    "    for i in some_list:\n",
    "        print(i[key_name])\n",
    "        \n",
    "iterateDictionary2('first_name',students)\n",
    "print()\n",
    "iterateDictionary2('last_name',students)"
   ]
  },
  {
   "cell_type": "code",
   "execution_count": 5,
   "metadata": {},
   "outputs": [],
   "source": [
    "dojo = {\n",
    "    'locations': ['San Jose', 'Seattle', 'Dallas', 'Chicago', 'Tulsa', 'DC', 'Burbank'],\n",
    "    'instructors': ['Michael', 'Amy', 'Eduardo', 'Josh', 'Graham', 'Patrick', 'Minh', 'Devon']\n",
    "}\n",
    "def printInfo(dojo):\n",
    "    for key, val in dojo.items():\n",
    "        print(f'{len(val)} {key.upper()}')\n",
    "        for i in val:\n",
    "            print(i)\n",
    "        print()\n",
    "## output:\n",
    "# 7 LOCATIONS\n",
    "# San Jose\n",
    "# Seattle\n",
    "# Dallas\n",
    "# Chicago\n",
    "# Tulsa\n",
    "# DC\n",
    "# Burbank\n",
    "# \n",
    "# 8 INSTRUCTORS\n",
    "# Michael\n",
    "# Amy\n",
    "# Eduardo\n",
    "# Josh\n",
    "# Graham\n",
    "# Patrick\n",
    "# Minh\n",
    "# Devon"
   ]
  },
  {
   "cell_type": "code",
   "execution_count": 6,
   "metadata": {},
   "outputs": [
    {
     "name": "stdout",
     "output_type": "stream",
     "text": [
      "7 LOCATIONS\n",
      "San Jose\n",
      "Seattle\n",
      "Dallas\n",
      "Chicago\n",
      "Tulsa\n",
      "DC\n",
      "Burbank\n",
      "\n",
      "8 INSTRUCTORS\n",
      "Michael\n",
      "Amy\n",
      "Eduardo\n",
      "Josh\n",
      "Graham\n",
      "Patrick\n",
      "Minh\n",
      "Devon\n",
      "\n"
     ]
    }
   ],
   "source": [
    "printInfo(dojo)"
   ]
  }
 ],
 "metadata": {
  "interpreter": {
   "hash": "b3ba2566441a7c06988d0923437866b63cedc61552a5af99d1f4fb67d367b25f"
  },
  "kernelspec": {
   "display_name": "Python 3.8.3 ('base')",
   "language": "python",
   "name": "python3"
  },
  "language_info": {
   "codemirror_mode": {
    "name": "ipython",
    "version": 3
   },
   "file_extension": ".py",
   "mimetype": "text/x-python",
   "name": "python",
   "nbconvert_exporter": "python",
   "pygments_lexer": "ipython3",
   "version": "3.8.3"
  },
  "orig_nbformat": 4
 },
 "nbformat": 4,
 "nbformat_minor": 2
}

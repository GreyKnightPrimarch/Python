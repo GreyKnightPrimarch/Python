{
 "cells": [
  {
   "cell_type": "code",
   "execution_count": 6,
   "metadata": {},
   "outputs": [],
   "source": [
    "class User:\n",
    "    balance = 0\n",
    "    name = ''\n",
    "    def __init__(self, name, startingAmount=0):\n",
    "        self.balance = startingAmount\n",
    "        self.name = name\n",
    "    def transfer_money(self, other_user, amount):\n",
    "        other_user.balance += amount\n",
    "        self.balance -= amount\n",
    "        return self\n",
    "    def make_withdrawal(self, amount):\n",
    "        self.balance -= amount\n",
    "        return self\n",
    "    def make_deposit(self, amount):\n",
    "        self.balance += amount\n",
    "        return self\n",
    "    def display_user_balance(self):\n",
    "        print(f'{self.name}\\nAmount: {self.balance}')\n"
   ]
  },
  {
   "cell_type": "code",
   "execution_count": 7,
   "metadata": {},
   "outputs": [
    {
     "data": {
      "text/plain": [
       "<__main__.User at 0x208ef402fd0>"
      ]
     },
     "execution_count": 7,
     "metadata": {},
     "output_type": "execute_result"
    }
   ],
   "source": [
    "hj = User(\"Henry James\")\n",
    "lp = User(\"lawerence pirison\", 1000)\n",
    "ub = User(\"Ustice Baggs\", 2000)\n",
    "hj.make_withdrawal(-500)\n",
    "lp.make_deposit(-100)\n",
    "ub.make_deposit(-100)\n"
   ]
  },
  {
   "cell_type": "code",
   "execution_count": 8,
   "metadata": {},
   "outputs": [
    {
     "name": "stdout",
     "output_type": "stream",
     "text": [
      "lawerence pirison\n",
      "Amount: 1017\n"
     ]
    }
   ],
   "source": [
    "lp.make_deposit(100).make_deposit(130).make_withdrawal(33).make_withdrawal(80)\n",
    "lp.display_user_balance()"
   ]
  },
  {
   "cell_type": "code",
   "execution_count": 9,
   "metadata": {},
   "outputs": [
    {
     "name": "stdout",
     "output_type": "stream",
     "text": [
      "Ustice Baggs\n",
      "Amount: 2877\n"
     ]
    }
   ],
   "source": [
    "ub.make_deposit(1120).make_withdrawal(53).make_withdrawal(14).make_withdrawal(76)\n",
    "ub.display_user_balance()"
   ]
  },
  {
   "cell_type": "code",
   "execution_count": 10,
   "metadata": {},
   "outputs": [
    {
     "name": "stdout",
     "output_type": "stream",
     "text": [
      "Henry James\n",
      "Amount: 500\n",
      "lawerence pirison\n",
      "Amount: 1017\n",
      "Henry James\n",
      "Amount: 700\n",
      "lawerence pirison\n",
      "Amount: 817\n"
     ]
    }
   ],
   "source": [
    "hj.display_user_balance()\n",
    "lp.display_user_balance()\n",
    "lp.transfer_money(hj,200)\n",
    "hj.display_user_balance()\n",
    "lp.display_user_balance()"
   ]
  }
 ],
 "metadata": {
  "interpreter": {
   "hash": "b3ba2566441a7c06988d0923437866b63cedc61552a5af99d1f4fb67d367b25f"
  },
  "kernelspec": {
   "display_name": "Python 3.8.3 ('base')",
   "language": "python",
   "name": "python3"
  },
  "language_info": {
   "codemirror_mode": {
    "name": "ipython",
    "version": 3
   },
   "file_extension": ".py",
   "mimetype": "text/x-python",
   "name": "python",
   "nbconvert_exporter": "python",
   "pygments_lexer": "ipython3",
   "version": "3.8.3"
  },
  "orig_nbformat": 4
 },
 "nbformat": 4,
 "nbformat_minor": 2
}

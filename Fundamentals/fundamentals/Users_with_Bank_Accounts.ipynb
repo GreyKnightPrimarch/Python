{
 "cells": [
  {
   "cell_type": "code",
   "execution_count": 50,
   "metadata": {},
   "outputs": [],
   "source": [
    "import random\n",
    "\n",
    "def Rand(a=0,b=100):\n",
    "    val = random.randrange(a,b)\n",
    "    val2 = random.random()\n",
    "    f = round(val*val2*10,2)\n",
    "    return f"
   ]
  },
  {
   "cell_type": "code",
   "execution_count": 51,
   "metadata": {},
   "outputs": [],
   "source": [
    "class BankAccount:\n",
    "    balance = 0\n",
    "    rate = 0\n",
    "    name = ''\n",
    "    def __init__(self, name, rate=.1, startingAmount=0):\n",
    "        self.balance = startingAmount\n",
    "        self.name = name\n",
    "        self.rate = rate\n",
    "    def transfer_money(self, other_BankAccount, amount=0):\n",
    "        if(amount==0):\n",
    "            amount = Rand()\n",
    "            print(f\"Randomly transfered {'%.2f'%amount:<10}\")\n",
    "        other_BankAccount.balance += amount\n",
    "        self.balance -= amount\n",
    "        return self\n",
    "    def make_withdrawal(self, amount=0):\n",
    "        if(amount==0):\n",
    "            amount = Rand()\n",
    "            print(f\"Randomly withdrawn {'%.2f'%amount:<10}\")\n",
    "        self.balance -= amount\n",
    "        return self\n",
    "    def make_deposit(self, amount=0):\n",
    "        if(amount==0):\n",
    "            amount = Rand()\n",
    "            print(f\"Randomly deposited {'%.2f'%amount:<10}\")\n",
    "        self.balance += amount\n",
    "        return self\n",
    "    def yeild_interest(self):\n",
    "        self.balance *= (1+self.rate)\n",
    "        self.balance = round(self.balance,2)\n",
    "        return self\n",
    "    @classmethod\n",
    "    def display_account_info(cls):\n",
    "        print(f'{cls.name}-Amount: {cls.balance}')\n",
    "        \n",
    "    def display_account_balance(self):\n",
    "        print(f'{self.name}-Amount: {self.balance}')\n",
    "        \n",
    "    def set_and_display_account(self):\n",
    "        self.set_instance_to_class()\n",
    "        BankAccount.display_account_info()\n",
    "        \n",
    "    def set_instance_to_class(self):\n",
    "        BankAccount.name = self.name\n",
    "        BankAccount.balance = self.balance\n",
    "        BankAccount.rate = self.rate        \n",
    "        \n"
   ]
  },
  {
   "cell_type": "code",
   "execution_count": 52,
   "metadata": {},
   "outputs": [],
   "source": [
    "class User:\n",
    "    name = ''\n",
    "    acct = []\n",
    "\n",
    "    def __init__(self, name, accountName='Checking', rate=.01, balance=0):\n",
    "        self.name = name\n",
    "        self.acct = []\n",
    "        temp = BankAccount(accountName, rate, balance)\n",
    "        self.acct.append(temp)\n",
    "    def transfer_money(self, other_user, amount=0, indexMe=0, IndexYou=0):\n",
    "        indexMe = self.length_check(indexMe)\n",
    "        IndexYou = other_user.length_check(IndexYou)\n",
    "        self.acct[indexMe].transfer_money(other_user.acct[IndexYou], amount)\n",
    "        return self\n",
    "    def make_withdrawal(self, amount=0, indexMe=0):\n",
    "        indexMe = self.length_check(indexMe)\n",
    "        self.acct[indexMe].make_withdrawal(amount)\n",
    "        return self\n",
    "    \n",
    "    def make_deposit(self, amount=0, indexMe=0):\n",
    "        indexMe = self.length_check(indexMe)\n",
    "        self.acct[indexMe].make_deposit(amount)\n",
    "        return self\n",
    "    def display_user_balance(self, indexMe=0):\n",
    "        indexMe = self.length_check(indexMe)\n",
    "        self.acct[indexMe].display_account_balance()\n",
    "        return self\n",
    "    def GetAccount(self, indexMe=0):\n",
    "        indexMe = self.length_check(indexMe)\n",
    "        return self.acct[indexMe]\n",
    "    def length_check(self, i):\n",
    "        if(i>len(self.acct)):\n",
    "            i = len(self.acct)\n",
    "            print(f'Set index to {i}, which references {self.acct[i].name}')\n",
    "            return i\n",
    "        elif(i<0):\n",
    "            i = 0\n",
    "            print(f'Set index to {i}, which references {self.acct[i].name}')\n",
    "            return i\n",
    "        else:\n",
    "            return i"
   ]
  },
  {
   "cell_type": "code",
   "execution_count": 53,
   "metadata": {},
   "outputs": [
    {
     "data": {
      "text/plain": [
       "<__main__.User at 0x18653825fa0>"
      ]
     },
     "execution_count": 53,
     "metadata": {},
     "output_type": "execute_result"
    }
   ],
   "source": [
    "hj = User(\"Henry James\")\n",
    "lp = User(\"lawerence pirison\", balance=1000)\n",
    "ub = User(\"Ustice Baggs\", balance=2000)\n",
    "hj.make_withdrawal(-500)\n",
    "lp.make_deposit(-100)\n",
    "ub.make_deposit(-100)\n"
   ]
  },
  {
   "cell_type": "code",
   "execution_count": 54,
   "metadata": {},
   "outputs": [
    {
     "name": "stdout",
     "output_type": "stream",
     "text": [
      "Checking-Amount: 1017\n"
     ]
    },
    {
     "data": {
      "text/plain": [
       "<__main__.User at 0x18653825a00>"
      ]
     },
     "execution_count": 54,
     "metadata": {},
     "output_type": "execute_result"
    }
   ],
   "source": [
    "lp.make_deposit(100)\n",
    "lp.make_deposit(130)\n",
    "lp.make_withdrawal(33)\n",
    "lp.make_withdrawal(80)\n",
    "lp.display_user_balance()"
   ]
  },
  {
   "cell_type": "code",
   "execution_count": 55,
   "metadata": {},
   "outputs": [
    {
     "name": "stdout",
     "output_type": "stream",
     "text": [
      "Checking-Amount: 2877\n"
     ]
    },
    {
     "data": {
      "text/plain": [
       "<__main__.User at 0x18653825fa0>"
      ]
     },
     "execution_count": 55,
     "metadata": {},
     "output_type": "execute_result"
    }
   ],
   "source": [
    "ub.make_deposit(1120)\n",
    "ub.make_withdrawal(53)\n",
    "ub.make_withdrawal(14)\n",
    "ub.make_withdrawal(76)\n",
    "ub.display_user_balance()"
   ]
  },
  {
   "cell_type": "code",
   "execution_count": 56,
   "metadata": {},
   "outputs": [
    {
     "name": "stdout",
     "output_type": "stream",
     "text": [
      "Checking-Amount: 500\n",
      "Checking-Amount: 1017\n",
      "Checking-Amount: 700\n",
      "Checking-Amount: 817\n"
     ]
    },
    {
     "data": {
      "text/plain": [
       "<__main__.User at 0x18653825a00>"
      ]
     },
     "execution_count": 56,
     "metadata": {},
     "output_type": "execute_result"
    }
   ],
   "source": [
    "hj.display_user_balance()\n",
    "lp.display_user_balance()\n",
    "lp.transfer_money(hj,200)\n",
    "hj.display_user_balance()\n",
    "lp.display_user_balance()"
   ]
  }
 ],
 "metadata": {
  "interpreter": {
   "hash": "b3ba2566441a7c06988d0923437866b63cedc61552a5af99d1f4fb67d367b25f"
  },
  "kernelspec": {
   "display_name": "Python 3.8.3 ('base')",
   "language": "python",
   "name": "python3"
  },
  "language_info": {
   "codemirror_mode": {
    "name": "ipython",
    "version": 3
   },
   "file_extension": ".py",
   "mimetype": "text/x-python",
   "name": "python",
   "nbconvert_exporter": "python",
   "pygments_lexer": "ipython3",
   "version": "3.8.3"
  },
  "orig_nbformat": 4
 },
 "nbformat": 4,
 "nbformat_minor": 2
}
